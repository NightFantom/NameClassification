{
 "cells": [
  {
   "cell_type": "markdown",
   "metadata": {},
   "source": [
    "# Import"
   ]
  },
  {
   "cell_type": "code",
   "execution_count": 1,
   "metadata": {
    "ExecuteTime": {
     "end_time": "2018-12-09T11:14:44.028470Z",
     "start_time": "2018-12-09T11:14:43.580309Z"
    }
   },
   "outputs": [],
   "source": [
    "import pandas as pd\n",
    "import json\n",
    "import numpy as np\n",
    "import glob\n",
    "import os\n",
    "import torch\n",
    "import torch.nn as nn\n",
    "from torch.utils.data import DataLoader, Dataset\n",
    "from sklearn.model_selection import train_test_split\n",
    "from sklearn.metrics import f1_score\n",
    "from tqdm import tqdm_notebook\n",
    "\n",
    "\n",
    "NAME_STR = \"Name\"\n",
    "CLASS_STR = \"Class\""
   ]
  },
  {
   "cell_type": "markdown",
   "metadata": {
    "heading_collapsed": true
   },
   "source": [
    "# Form dataset"
   ]
  },
  {
   "cell_type": "code",
   "execution_count": null,
   "metadata": {
    "ExecuteTime": {
     "end_time": "2018-12-09T07:58:03.608963Z",
     "start_time": "2018-12-09T07:58:03.606779Z"
    },
    "hidden": true
   },
   "outputs": [],
   "source": [
    "import unicodedata\n",
    "import string\n",
    "\n",
    "all_letters = string.ascii_letters + \" .,;'\"\n",
    "\n",
    "def unicodeToAscii(s):\n",
    "    return ''.join(\n",
    "        c for c in unicodedata.normalize('NFD', s)\n",
    "        if unicodedata.category(c) != 'Mn'\n",
    "        and c in all_letters\n",
    "    )\n",
    "\n",
    "print(unicodeToAscii('Ślusàrski'))"
   ]
  },
  {
   "cell_type": "code",
   "execution_count": null,
   "metadata": {
    "ExecuteTime": {
     "end_time": "2018-12-09T07:58:12.112671Z",
     "start_time": "2018-12-09T07:58:11.672017Z"
    },
    "hidden": true
   },
   "outputs": [],
   "source": [
    "pathern = \"data/names/*.txt\"\n",
    "temp_list = []\n",
    "for file_name in glob.glob(pathern):\n",
    "    base=os.path.basename(file_name)\n",
    "    language = os.path.splitext(base)[0]\n",
    "\n",
    "    df = pd.read_csv(file_name, header=None, names=[NAME_STR])\n",
    "    df[NAME_STR] = df[NAME_STR].str.lower()\n",
    "    df[NAME_STR] = df[NAME_STR].apply(lambda x: unicodeToAscii(x))\n",
    "    df[CLASS_STR] = [language] * df.shape[0]\n",
    "    temp_list.append(df)\n",
    "    \n",
    "names_df = pd.concat(temp_list)\n",
    "names_df.to_csv(\"data/full_name_list.csv\", index=False)"
   ]
  },
  {
   "cell_type": "markdown",
   "metadata": {},
   "source": [
    "# Load dataset"
   ]
  },
  {
   "cell_type": "code",
   "execution_count": 2,
   "metadata": {
    "ExecuteTime": {
     "end_time": "2018-12-09T11:14:47.854149Z",
     "start_time": "2018-12-09T11:14:47.828688Z"
    }
   },
   "outputs": [
    {
     "data": {
      "text/html": [
       "<div>\n",
       "<style scoped>\n",
       "    .dataframe tbody tr th:only-of-type {\n",
       "        vertical-align: middle;\n",
       "    }\n",
       "\n",
       "    .dataframe tbody tr th {\n",
       "        vertical-align: top;\n",
       "    }\n",
       "\n",
       "    .dataframe thead th {\n",
       "        text-align: right;\n",
       "    }\n",
       "</style>\n",
       "<table border=\"1\" class=\"dataframe\">\n",
       "  <thead>\n",
       "    <tr style=\"text-align: right;\">\n",
       "      <th></th>\n",
       "      <th>Name</th>\n",
       "      <th>Class</th>\n",
       "    </tr>\n",
       "  </thead>\n",
       "  <tbody>\n",
       "    <tr>\n",
       "      <th>14401</th>\n",
       "      <td>galvin</td>\n",
       "      <td>English</td>\n",
       "    </tr>\n",
       "    <tr>\n",
       "      <th>19752</th>\n",
       "      <td>wilchek</td>\n",
       "      <td>Czech</td>\n",
       "    </tr>\n",
       "    <tr>\n",
       "      <th>3869</th>\n",
       "      <td>ebsvort</td>\n",
       "      <td>Russian</td>\n",
       "    </tr>\n",
       "    <tr>\n",
       "      <th>7671</th>\n",
       "      <td>pentin</td>\n",
       "      <td>Russian</td>\n",
       "    </tr>\n",
       "    <tr>\n",
       "      <th>16750</th>\n",
       "      <td>whyte</td>\n",
       "      <td>English</td>\n",
       "    </tr>\n",
       "  </tbody>\n",
       "</table>\n",
       "</div>"
      ],
      "text/plain": [
       "          Name    Class\n",
       "14401   galvin  English\n",
       "19752  wilchek    Czech\n",
       "3869   ebsvort  Russian\n",
       "7671    pentin  Russian\n",
       "16750    whyte  English"
      ]
     },
     "execution_count": 2,
     "metadata": {},
     "output_type": "execute_result"
    }
   ],
   "source": [
    "names_df = pd.read_csv(\"data/full_name_list.csv\")\n",
    "names_df.sample(5)"
   ]
  },
  {
   "cell_type": "markdown",
   "metadata": {},
   "source": [
    "# Data analysis"
   ]
  },
  {
   "cell_type": "code",
   "execution_count": 3,
   "metadata": {
    "ExecuteTime": {
     "end_time": "2018-12-09T11:14:50.622334Z",
     "start_time": "2018-12-09T11:14:50.510609Z"
    }
   },
   "outputs": [],
   "source": [
    "import matplotlib.pyplot as plt"
   ]
  },
  {
   "cell_type": "code",
   "execution_count": 4,
   "metadata": {
    "ExecuteTime": {
     "end_time": "2018-12-09T11:14:50.944090Z",
     "start_time": "2018-12-09T11:14:50.815306Z"
    }
   },
   "outputs": [
    {
     "data": {
      "image/png": "[encoded data removed]",
      "text/plain": [
       "<Figure size 432x288 with 1 Axes>"
      ]
     },
     "metadata": {
      "needs_background": "light"
     },
     "output_type": "display_data"
    }
   ],
   "source": [
    "plot_data = np.unique(names_df[CLASS_STR], return_counts=True)\n",
    "x_tick = range(len(plot_data[0]))\n",
    "plt.bar(x_tick, plot_data[1], tick_label=plot_data[0])\n",
    "plt.xticks(rotation=90)\n",
    "plt.xlabel(\"Country\")\n",
    "plt.ylabel(\"Amount of samples\")\n",
    "plt.title(\"Histogram of classes\")\n",
    "plt.show()"
   ]
  },
  {
   "cell_type": "markdown",
   "metadata": {},
   "source": [
    "# Generation of vectors"
   ]
  },
  {
   "cell_type": "code",
   "execution_count": 5,
   "metadata": {
    "ExecuteTime": {
     "end_time": "2018-12-09T11:14:54.574989Z",
     "start_time": "2018-12-09T11:14:54.569226Z"
    }
   },
   "outputs": [],
   "source": [
    "class Convertor:\n",
    "    \n",
    "    def __init__(self, vocabular):\n",
    "        letter_dict = {}\n",
    "        for ind, letter in enumerate(vocabular):\n",
    "            letter_dict[letter] = ind\n",
    "            \n",
    "        self.letter_dict = letter_dict\n",
    "    \n",
    "    def __call__(self, word_str):\n",
    "        \"\"\"\n",
    "        Output: vector with shape (n_letter x 1 x vocabular_size)\n",
    "        \"\"\"\n",
    "        vector = np.zeros((len(word_str), 1, len(self.letter_dict)))\n",
    "        \n",
    "        for let_pos, letter in enumerate(word_str):\n",
    "            index = self.letter_dict[letter]\n",
    "            vector[let_pos][0][index] = 1\n",
    "        return vector"
   ]
  },
  {
   "cell_type": "markdown",
   "metadata": {},
   "source": [
    "Encoding county name"
   ]
  },
  {
   "cell_type": "code",
   "execution_count": 6,
   "metadata": {
    "ExecuteTime": {
     "end_time": "2018-12-09T11:14:57.995453Z",
     "start_time": "2018-12-09T11:14:57.982451Z"
    }
   },
   "outputs": [],
   "source": [
    "country_dict = {}\n",
    "index_country_dict = {}\n",
    "for ind, country_name in enumerate(np.unique(names_df[CLASS_STR])):\n",
    "    country_dict[country_name] = ind\n",
    "    index_country_dict[ind] = country_name"
   ]
  },
  {
   "cell_type": "markdown",
   "metadata": {},
   "source": [
    "Preparing letter vocabular"
   ]
  },
  {
   "cell_type": "code",
   "execution_count": 7,
   "metadata": {
    "ExecuteTime": {
     "end_time": "2018-12-09T11:15:00.946077Z",
     "start_time": "2018-12-09T11:15:00.030258Z"
    }
   },
   "outputs": [],
   "source": [
    "letters_set = set()\n",
    "for ind, ser in names_df.iterrows():\n",
    "    name_str = ser.get(NAME_STR)\n",
    "    name_letter_set = set(name_str)\n",
    "    letters_set = letters_set.union(name_letter_set)\n",
    "\n",
    "letters_list = list(letters_set)\n",
    "letters_list.sort()"
   ]
  },
  {
   "cell_type": "markdown",
   "metadata": {},
   "source": [
    "Encoding each name"
   ]
  },
  {
   "cell_type": "code",
   "execution_count": 8,
   "metadata": {
    "ExecuteTime": {
     "end_time": "2018-12-09T11:15:13.461493Z",
     "start_time": "2018-12-09T11:15:12.318873Z"
    }
   },
   "outputs": [],
   "source": [
    "convertor = Convertor(letters_list)\n",
    "\n",
    "vector_list = []\n",
    "for ind, ser in names_df.iterrows():\n",
    "    name_str = ser.get(NAME_STR)\n",
    "    vector = convertor(name_str)\n",
    "    vector_list.append(vector)\n",
    "\n",
    "vector_np = np.array(vector_list)"
   ]
  },
  {
   "cell_type": "markdown",
   "metadata": {},
   "source": [
    "# Wrap into torch dataset"
   ]
  },
  {
   "cell_type": "code",
   "execution_count": 9,
   "metadata": {
    "ExecuteTime": {
     "end_time": "2018-12-09T11:16:40.229420Z",
     "start_time": "2018-12-09T11:16:40.225957Z"
    }
   },
   "outputs": [],
   "source": [
    "class NameDataset(Dataset):\n",
    "    \n",
    "    def __init__(self, vector_np, name_np, country_np, country_dict):\n",
    "        \n",
    "        if vector_np.shape[0] != name_np.shape[0] and vector_np.shape[0] != country_np.shape[0]:\n",
    "            raise Exception(\"Wrong dimentionality\")\n",
    "        \n",
    "        self.vector_np = vector_np\n",
    "        self.name_np = name_np\n",
    "        self.country_np = country_np\n",
    "        self.country_dict = country_dict\n",
    "        \n",
    "    def __len__(self):\n",
    "        return self.vector_np.shape[0]\n",
    "    \n",
    "    def __getitem__(self, index):\n",
    "        country_name = self.country_np[index]\n",
    "        country_id = country_dict[country_name]\n",
    "        return self.vector_np[index], country_id"
   ]
  },
  {
   "cell_type": "code",
   "execution_count": 10,
   "metadata": {
    "ExecuteTime": {
     "end_time": "2018-12-09T11:18:06.906598Z",
     "start_time": "2018-12-09T11:18:06.904127Z"
    }
   },
   "outputs": [],
   "source": [
    "def get_data_set(index, df, vector_np, country_map):\n",
    "    vector_np = vector_np[index]\n",
    "    names = df[NAME_STR].values[index]\n",
    "    class_np = names_df[CLASS_STR].values[index]\n",
    "    data_set = NameDataset(vector_np, names, class_np, country_map)\n",
    "    return DataLoader(data_set, batch_size=1, shuffle=True)"
   ]
  },
  {
   "cell_type": "code",
   "execution_count": 11,
   "metadata": {
    "ExecuteTime": {
     "end_time": "2018-12-09T11:19:33.139996Z",
     "start_time": "2018-12-09T11:19:33.133940Z"
    }
   },
   "outputs": [],
   "source": [
    "X_train, X_test, _, _ = train_test_split(names_df.index, names_df[CLASS_STR])\n",
    "\n",
    "train_data_loader = get_data_set(X_train, names_df, vector_np, country_dict)\n",
    "test_data_loader = get_data_set(X_train, names_df, vector_np, country_dict)"
   ]
  },
  {
   "cell_type": "markdown",
   "metadata": {},
   "source": [
    "# Creating model"
   ]
  },
  {
   "cell_type": "code",
   "execution_count": 12,
   "metadata": {
    "ExecuteTime": {
     "end_time": "2018-12-09T11:21:00.060518Z",
     "start_time": "2018-12-09T11:21:00.056946Z"
    }
   },
   "outputs": [],
   "source": [
    "class RNN(nn.Module):\n",
    "    def __init__(self, input_size, hidden_size, output_size):\n",
    "        super().__init__()\n",
    "\n",
    "        self.hidden_size = hidden_size\n",
    "\n",
    "        self.i2h = nn.Linear(input_size + hidden_size, hidden_size)\n",
    "        self.i2o = nn.Linear(hidden_size, output_size)\n",
    "        self.softmax = nn.LogSoftmax(dim=1)\n",
    "\n",
    "    def forward(self, X, hidden):\n",
    "        combined = torch.cat((X, hidden), 1)\n",
    "        hidden = self.i2h(combined)\n",
    "        output = self.i2o(hidden)\n",
    "        output = self.softmax(output)\n",
    "        return output, hidden\n",
    "\n",
    "    def initHidden(self):\n",
    "        return torch.zeros(1, self.hidden_size, dtype=torch.float32, requires_grad=False)"
   ]
  },
  {
   "cell_type": "code",
   "execution_count": 14,
   "metadata": {
    "ExecuteTime": {
     "end_time": "2018-12-09T11:24:18.458442Z",
     "start_time": "2018-12-09T11:24:18.451772Z"
    }
   },
   "outputs": [],
   "source": [
    "def eval_model(model, test_dl):\n",
    "    pred_list = []\n",
    "    true_label = []\n",
    "    model.eval()\n",
    "    with torch.no_grad():\n",
    "        for data_list in tqdm_notebook(test_dl):\n",
    "            hidden_state = model.initHidden()\n",
    "\n",
    "            vector_list = data_list[VECTOR_INDEX]\n",
    "            vector_list = vector_list.float()\n",
    "            vector_list = vector_list.to(device)\n",
    "            \n",
    "            class_list = data_list[CLASS_INDEX]\n",
    "            true_label.append(class_list[0])\n",
    "            \n",
    "            for vec in vector_list[0]:\n",
    "                output, hidden_state = model(vec, hidden_state)\n",
    "            prediction = torch.argmax(output).item()\n",
    "            pred_list.append(prediction)\n",
    "    score = f1_score(true_label, pred_list, average=\"micro\")\n",
    "    print(f\"F1 micro: {score}\")\n",
    "    score = f1_score(true_label, pred_list, average=\"weighted\")\n",
    "    print(f\"F1 weighted: {score}\")\n",
    "    return pred_list"
   ]
  },
  {
   "cell_type": "markdown",
   "metadata": {},
   "source": [
    "# Train"
   ]
  },
  {
   "cell_type": "code",
   "execution_count": 15,
   "metadata": {
    "ExecuteTime": {
     "end_time": "2018-12-09T11:25:45.108410Z",
     "start_time": "2018-12-09T11:25:45.106480Z"
    }
   },
   "outputs": [],
   "source": [
    "VECTOR_INDEX = 0\n",
    "CLASS_INDEX = 1"
   ]
  },
  {
   "cell_type": "code",
   "execution_count": 16,
   "metadata": {
    "ExecuteTime": {
     "end_time": "2018-12-09T11:27:15.667485Z",
     "start_time": "2018-12-09T11:27:15.649609Z"
    }
   },
   "outputs": [
    {
     "name": "stderr",
     "output_type": "stream",
     "text": [
      "/home/denis/Programs/anaconda3/lib/python3.7/site-packages/torch/cuda/__init__.py:116: UserWarning: \n",
      "    Found GPU0 GeForce GTX 760 which is of cuda capability 3.0.\n",
      "    PyTorch no longer supports this GPU because it is too old.\n",
      "    \n",
      "  warnings.warn(old_gpu_warn % (d, name, major, capability[1]))\n"
     ]
    }
   ],
   "source": [
    "if torch.cuda.is_available() and torch.cuda.get_device_capability(0)[0] > 5:\n",
    "    device = torch.device(\"cuda\")\n",
    "else:\n",
    "    device = torch.device(\"cpu\")"
   ]
  },
  {
   "cell_type": "code",
   "execution_count": null,
   "metadata": {
    "ExecuteTime": {
     "end_time": "2018-12-09T11:38:28.175258Z",
     "start_time": "2018-12-09T11:28:46.471327Z"
    },
    "scrolled": true
   },
   "outputs": [],
   "source": [
    "SAVE_PATH = \"./models/model_1.pt\"\n",
    "EPOCH_NUMBER = 10\n",
    "\n",
    "n_hidden = 128\n",
    "n_letters = len(letters_list)\n",
    "n_categories = np.unique(names_df[CLASS_STR]).shape[0]\n",
    "\n",
    "rnn = RNN(n_letters, n_hidden, n_categories)\n",
    "rnn = rnn.float()\n",
    "rnn.to(device)\n",
    "\n",
    "\n",
    "optimizer = torch.optim.SGD(rnn.parameters(), lr=0.001, momentum=0.9)\n",
    "loss_func = nn.NLLLoss()\n",
    "\n",
    "min_loss = 999999999999999\n",
    "\n",
    "for epoch in range(EPOCH_NUMBER):\n",
    "    epoch_loss = 0\n",
    "    for data_list in tqdm_notebook(train_data_loader):\n",
    "        rnn.train()\n",
    "        hidden_state = rnn.initHidden()\n",
    "        optimizer.zero_grad()\n",
    "        \n",
    "        vector_list = data_list[VECTOR_INDEX]\n",
    "        vector_list = vector_list.float()\n",
    "        \n",
    "        class_list = data_list[CLASS_INDEX]\n",
    "        \n",
    "        vector_list = vector_list.to(device)\n",
    "        class_list = class_list.to(device)\n",
    "        \n",
    "        for vec in vector_list[0]:\n",
    "            output, hidden_state = rnn(vec, hidden_state)\n",
    "        loss_val = loss_func(output, class_list)\n",
    "        epoch_loss += loss_val.item()\n",
    "        \n",
    "        loss_val.backward(retain_graph=True)\n",
    "        optimizer.step()\n",
    "    if epoch_loss < min_loss:\n",
    "        min_loss = epoch_loss\n",
    "        torch.save(rnn.state_dict(), SAVE_PATH)\n",
    "        eval_model(rnn, test_data_loader)\n",
    "    print(f\"Epoch {epoch}. Loss: {epoch_loss}\")"
   ]
  },
  {
   "cell_type": "markdown",
   "metadata": {},
   "source": [
    "# Testing model on user input"
   ]
  },
  {
   "cell_type": "code",
   "execution_count": 20,
   "metadata": {
    "ExecuteTime": {
     "end_time": "2018-12-09T11:39:50.577059Z",
     "start_time": "2018-12-09T11:39:50.569719Z"
    }
   },
   "outputs": [],
   "source": [
    "temp_df = names_df.iloc[X_train]\n",
    "train_names = set(temp_df[NAME_STR])"
   ]
  },
  {
   "cell_type": "code",
   "execution_count": 18,
   "metadata": {
    "ExecuteTime": {
     "end_time": "2018-12-09T11:39:29.340290Z",
     "start_time": "2018-12-09T11:39:29.336722Z"
    }
   },
   "outputs": [],
   "source": [
    "data = torch.load(SAVE_PATH)\n",
    "rnn = RNN(n_letters, n_hidden, n_categories)\n",
    "rnn.load_state_dict(data)\n",
    "rnn = rnn.float()"
   ]
  },
  {
   "cell_type": "markdown",
   "metadata": {},
   "source": [
    "Specify name in variable name below"
   ]
  },
  {
   "cell_type": "code",
   "execution_count": 27,
   "metadata": {
    "ExecuteTime": {
     "end_time": "2018-12-09T11:42:15.561367Z",
     "start_time": "2018-12-09T11:42:15.553822Z"
    }
   },
   "outputs": [
    {
     "name": "stdout",
     "output_type": "stream",
     "text": [
      "Satoshi from Japanese\n"
     ]
    }
   ],
   "source": [
    "name = \"Satoshi\"\n",
    "\n",
    "text = name.lower()\n",
    "if text in train_names:\n",
    "    print(f\"Name {text} was in train set\")\n",
    "vector_np = convertor(text)\n",
    "vector_torch = torch.tensor(vector_np, dtype=torch.float32)\n",
    "hidden_state = rnn.initHidden()\n",
    "\n",
    "for vec in vector_torch:\n",
    "    output, hidden_state = rnn(vec, hidden_state)\n",
    "index = torch.argmax(output).item()\n",
    "country = index_country_dict[index]\n",
    "print(f\"{name} from {country}\")"
   ]
  }
 ],
 "metadata": {
  "kernelspec": {
   "display_name": "Python 3",
   "language": "python",
   "name": "python3"
  },
  "language_info": {
   "codemirror_mode": {
    "name": "ipython",
    "version": 3
   },
   "file_extension": ".py",
   "mimetype": "text/x-python",
   "name": "python",
   "nbconvert_exporter": "python",
   "pygments_lexer": "ipython3",
   "version": "3.7.0"
  },
  "notify_time": "5",
  "varInspector": {
   "cols": {
    "lenName": 16,
    "lenType": 16,
    "lenVar": 40
   },
   "kernels_config": {
    "python": {
     "delete_cmd_postfix": "",
     "delete_cmd_prefix": "del ",
     "library": "var_list.py",
     "varRefreshCmd": "print(var_dic_list())"
    },
    "r": {
     "delete_cmd_postfix": ") ",
     "delete_cmd_prefix": "rm(",
     "library": "var_list.r",
     "varRefreshCmd": "cat(var_dic_list()) "
    }
   },
   "types_to_exclude": [
    "module",
    "function",
    "builtin_function_or_method",
    "instance",
    "_Feature"
   ],
   "window_display": false
  }
 },
 "nbformat": 4,
 "nbformat_minor": 2
}
